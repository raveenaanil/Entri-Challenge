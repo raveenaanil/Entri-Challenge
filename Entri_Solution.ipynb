{
 "cells": [
  {
   "cell_type": "markdown",
   "metadata": {},
   "source": [
    "## Finding Insights From CSV"
   ]
  },
  {
   "cell_type": "markdown",
   "metadata": {},
   "source": [
    "#### Importing Libraries"
   ]
  },
  {
   "cell_type": "code",
   "execution_count": 1,
   "metadata": {},
   "outputs": [],
   "source": [
    "import pandas as pd\n",
    "import datetime\n",
    "import numpy as np\n",
    "import seaborn as sns\n",
    "import matplotlib.pyplot as plt\n",
    "%matplotlib inline\n",
    "plt.style.use('bmh')"
   ]
  },
  {
   "cell_type": "code",
   "execution_count": 2,
   "metadata": {},
   "outputs": [],
   "source": [
    "pd.set_option('display.max_rows', 1000,'display.max_columns', None)"
   ]
  },
  {
   "cell_type": "markdown",
   "metadata": {},
   "source": [
    "#### Importing CSV"
   ]
  },
  {
   "cell_type": "code",
   "execution_count": 3,
   "metadata": {},
   "outputs": [],
   "source": [
    "userDetailsDF = pd.read_csv(\"Input_csv/user_purchase_data.csv\")\n",
    "trackSubscriptionDF = pd.read_csv(\"Input_csv/track_subscription_data.csv\")\n",
    "quizAttemptDF = pd.read_csv(\"Input_csv/user_quiz_attempt_data.csv\")\n",
    "watchedVideoDF = pd.read_csv(\"Input_csv/user_video_activity_data.csv\")\n",
    "interactedStudyCardsDF = pd.read_csv(\"Input_csv/user_studycard_data.csv\")"
   ]
  },
  {
   "cell_type": "code",
   "execution_count": 4,
   "metadata": {},
   "outputs": [
    {
     "data": {
      "text/html": [
       "<div>\n",
       "<style scoped>\n",
       "    .dataframe tbody tr th:only-of-type {\n",
       "        vertical-align: middle;\n",
       "    }\n",
       "\n",
       "    .dataframe tbody tr th {\n",
       "        vertical-align: top;\n",
       "    }\n",
       "\n",
       "    .dataframe thead th {\n",
       "        text-align: right;\n",
       "    }\n",
       "</style>\n",
       "<table border=\"1\" class=\"dataframe\">\n",
       "  <thead>\n",
       "    <tr style=\"text-align: right;\">\n",
       "      <th></th>\n",
       "      <th>user_uid</th>\n",
       "      <th>date_joined</th>\n",
       "      <th>date_of_first_purhcase</th>\n",
       "    </tr>\n",
       "  </thead>\n",
       "  <tbody>\n",
       "    <tr>\n",
       "      <th>0</th>\n",
       "      <td>6</td>\n",
       "      <td>2021-06-04</td>\n",
       "      <td>2021-06-04</td>\n",
       "    </tr>\n",
       "    <tr>\n",
       "      <th>1</th>\n",
       "      <td>608</td>\n",
       "      <td>2021-06-04</td>\n",
       "      <td>NaN</td>\n",
       "    </tr>\n",
       "    <tr>\n",
       "      <th>2</th>\n",
       "      <td>635</td>\n",
       "      <td>2021-06-04</td>\n",
       "      <td>NaN</td>\n",
       "    </tr>\n",
       "    <tr>\n",
       "      <th>3</th>\n",
       "      <td>745</td>\n",
       "      <td>2021-06-04</td>\n",
       "      <td>NaN</td>\n",
       "    </tr>\n",
       "    <tr>\n",
       "      <th>4</th>\n",
       "      <td>1506</td>\n",
       "      <td>2021-06-04</td>\n",
       "      <td>NaN</td>\n",
       "    </tr>\n",
       "  </tbody>\n",
       "</table>\n",
       "</div>"
      ],
      "text/plain": [
       "   user_uid date_joined date_of_first_purhcase\n",
       "0         6  2021-06-04             2021-06-04\n",
       "1       608  2021-06-04                    NaN\n",
       "2       635  2021-06-04                    NaN\n",
       "3       745  2021-06-04                    NaN\n",
       "4      1506  2021-06-04                    NaN"
      ]
     },
     "execution_count": 4,
     "metadata": {},
     "output_type": "execute_result"
    }
   ],
   "source": [
    "userDetailsDF.head()"
   ]
  },
  {
   "cell_type": "code",
   "execution_count": 5,
   "metadata": {},
   "outputs": [
    {
     "data": {
      "text/html": [
       "<div>\n",
       "<style scoped>\n",
       "    .dataframe tbody tr th:only-of-type {\n",
       "        vertical-align: middle;\n",
       "    }\n",
       "\n",
       "    .dataframe tbody tr th {\n",
       "        vertical-align: top;\n",
       "    }\n",
       "\n",
       "    .dataframe thead th {\n",
       "        text-align: right;\n",
       "    }\n",
       "</style>\n",
       "<table border=\"1\" class=\"dataframe\">\n",
       "  <thead>\n",
       "    <tr style=\"text-align: right;\">\n",
       "      <th></th>\n",
       "      <th>user_id</th>\n",
       "      <th>track_slug</th>\n",
       "      <th>subscription_date</th>\n",
       "    </tr>\n",
       "  </thead>\n",
       "  <tbody>\n",
       "    <tr>\n",
       "      <th>0</th>\n",
       "      <td>6</td>\n",
       "      <td>kerala-psc</td>\n",
       "      <td>2021-06-04</td>\n",
       "    </tr>\n",
       "    <tr>\n",
       "      <th>1</th>\n",
       "      <td>6</td>\n",
       "      <td>KTET</td>\n",
       "      <td>2021-06-04</td>\n",
       "    </tr>\n",
       "    <tr>\n",
       "      <th>2</th>\n",
       "      <td>608</td>\n",
       "      <td>spoken-english</td>\n",
       "      <td>2021-06-04</td>\n",
       "    </tr>\n",
       "    <tr>\n",
       "      <th>3</th>\n",
       "      <td>608</td>\n",
       "      <td>APPSC</td>\n",
       "      <td>2021-06-04</td>\n",
       "    </tr>\n",
       "    <tr>\n",
       "      <th>4</th>\n",
       "      <td>608</td>\n",
       "      <td>Eng_With_Awal</td>\n",
       "      <td>2021-06-04</td>\n",
       "    </tr>\n",
       "  </tbody>\n",
       "</table>\n",
       "</div>"
      ],
      "text/plain": [
       "   user_id      track_slug subscription_date\n",
       "0        6      kerala-psc        2021-06-04\n",
       "1        6            KTET        2021-06-04\n",
       "2      608  spoken-english        2021-06-04\n",
       "3      608           APPSC        2021-06-04\n",
       "4      608   Eng_With_Awal        2021-06-04"
      ]
     },
     "execution_count": 5,
     "metadata": {},
     "output_type": "execute_result"
    }
   ],
   "source": [
    "trackSubscriptionDF.head()"
   ]
  },
  {
   "cell_type": "code",
   "execution_count": 32,
   "metadata": {},
   "outputs": [
    {
     "data": {
      "text/html": [
       "<div>\n",
       "<style scoped>\n",
       "    .dataframe tbody tr th:only-of-type {\n",
       "        vertical-align: middle;\n",
       "    }\n",
       "\n",
       "    .dataframe tbody tr th {\n",
       "        vertical-align: top;\n",
       "    }\n",
       "\n",
       "    .dataframe thead th {\n",
       "        text-align: right;\n",
       "    }\n",
       "</style>\n",
       "<table border=\"1\" class=\"dataframe\">\n",
       "  <thead>\n",
       "    <tr style=\"text-align: right;\">\n",
       "      <th></th>\n",
       "      <th>user_id</th>\n",
       "      <th>attempt_id</th>\n",
       "      <th>started_at</th>\n",
       "      <th>status</th>\n",
       "      <th>no_of_questions</th>\n",
       "      <th>question_attempted</th>\n",
       "      <th>watched_at_date</th>\n",
       "      <th>watched_at_time</th>\n",
       "    </tr>\n",
       "  </thead>\n",
       "  <tbody>\n",
       "    <tr>\n",
       "      <th>0</th>\n",
       "      <td>1506</td>\n",
       "      <td>50839743</td>\n",
       "      <td>None</td>\n",
       "      <td>CREATE</td>\n",
       "      <td>10</td>\n",
       "      <td>0</td>\n",
       "      <td>NaT</td>\n",
       "      <td>NaT</td>\n",
       "    </tr>\n",
       "    <tr>\n",
       "      <th>1</th>\n",
       "      <td>1506</td>\n",
       "      <td>50839752</td>\n",
       "      <td>None</td>\n",
       "      <td>PAUSE</td>\n",
       "      <td>10</td>\n",
       "      <td>10</td>\n",
       "      <td>NaT</td>\n",
       "      <td>NaT</td>\n",
       "    </tr>\n",
       "    <tr>\n",
       "      <th>2</th>\n",
       "      <td>1642</td>\n",
       "      <td>50842794</td>\n",
       "      <td>2021-06-04 16:52:25.634573+00:00</td>\n",
       "      <td>COMPLETE</td>\n",
       "      <td>10</td>\n",
       "      <td>10</td>\n",
       "      <td>2021-06-04</td>\n",
       "      <td>16:52:25.634573</td>\n",
       "    </tr>\n",
       "    <tr>\n",
       "      <th>3</th>\n",
       "      <td>1642</td>\n",
       "      <td>50843057</td>\n",
       "      <td>2021-06-04 16:55:37.917805+00:00</td>\n",
       "      <td>COMPLETE</td>\n",
       "      <td>10</td>\n",
       "      <td>10</td>\n",
       "      <td>2021-06-04</td>\n",
       "      <td>16:55:37.917805</td>\n",
       "    </tr>\n",
       "    <tr>\n",
       "      <th>4</th>\n",
       "      <td>1642</td>\n",
       "      <td>50843164</td>\n",
       "      <td>None</td>\n",
       "      <td>CREATE</td>\n",
       "      <td>10</td>\n",
       "      <td>0</td>\n",
       "      <td>NaT</td>\n",
       "      <td>NaT</td>\n",
       "    </tr>\n",
       "  </tbody>\n",
       "</table>\n",
       "</div>"
      ],
      "text/plain": [
       "   user_id  attempt_id                        started_at    status  \\\n",
       "0     1506    50839743                              None    CREATE   \n",
       "1     1506    50839752                              None     PAUSE   \n",
       "2     1642    50842794  2021-06-04 16:52:25.634573+00:00  COMPLETE   \n",
       "3     1642    50843057  2021-06-04 16:55:37.917805+00:00  COMPLETE   \n",
       "4     1642    50843164                              None    CREATE   \n",
       "\n",
       "   no_of_questions  question_attempted watched_at_date  watched_at_time  \n",
       "0               10                   0             NaT              NaT  \n",
       "1               10                  10             NaT              NaT  \n",
       "2               10                  10      2021-06-04  16:52:25.634573  \n",
       "3               10                  10      2021-06-04  16:55:37.917805  \n",
       "4               10                   0             NaT              NaT  "
      ]
     },
     "execution_count": 32,
     "metadata": {},
     "output_type": "execute_result"
    }
   ],
   "source": [
    "quizAttemptDF.head()"
   ]
  },
  {
   "cell_type": "code",
   "execution_count": 43,
   "metadata": {},
   "outputs": [
    {
     "data": {
      "text/html": [
       "<div>\n",
       "<style scoped>\n",
       "    .dataframe tbody tr th:only-of-type {\n",
       "        vertical-align: middle;\n",
       "    }\n",
       "\n",
       "    .dataframe tbody tr th {\n",
       "        vertical-align: top;\n",
       "    }\n",
       "\n",
       "    .dataframe thead th {\n",
       "        text-align: right;\n",
       "    }\n",
       "</style>\n",
       "<table border=\"1\" class=\"dataframe\">\n",
       "  <thead>\n",
       "    <tr style=\"text-align: right;\">\n",
       "      <th></th>\n",
       "      <th>user_id</th>\n",
       "      <th>watch_instance_id</th>\n",
       "      <th>watched_at</th>\n",
       "      <th>video_id</th>\n",
       "      <th>duration</th>\n",
       "      <th>watched_duration</th>\n",
       "      <th>watched_at_date</th>\n",
       "      <th>watched_at_time</th>\n",
       "    </tr>\n",
       "  </thead>\n",
       "  <tbody>\n",
       "    <tr>\n",
       "      <th>130</th>\n",
       "      <td>1512</td>\n",
       "      <td>24004401</td>\n",
       "      <td>2021-06-04 16:18:38.939932+00:00</td>\n",
       "      <td>19183</td>\n",
       "      <td>465</td>\n",
       "      <td>0</td>\n",
       "      <td>2021-06-04</td>\n",
       "      <td>16:18:38.939932</td>\n",
       "    </tr>\n",
       "    <tr>\n",
       "      <th>132</th>\n",
       "      <td>1642</td>\n",
       "      <td>24011267</td>\n",
       "      <td>2021-06-04 18:32:46.898409+00:00</td>\n",
       "      <td>31592</td>\n",
       "      <td>369</td>\n",
       "      <td>0</td>\n",
       "      <td>2021-06-04</td>\n",
       "      <td>18:32:46.898409</td>\n",
       "    </tr>\n",
       "    <tr>\n",
       "      <th>127</th>\n",
       "      <td>635</td>\n",
       "      <td>23996470</td>\n",
       "      <td>2021-06-04 14:15:26.632537+00:00</td>\n",
       "      <td>22246</td>\n",
       "      <td>813</td>\n",
       "      <td>678</td>\n",
       "      <td>2021-06-04</td>\n",
       "      <td>14:15:26.632537</td>\n",
       "    </tr>\n",
       "    <tr>\n",
       "      <th>134</th>\n",
       "      <td>1796</td>\n",
       "      <td>24007227</td>\n",
       "      <td>2021-06-04 17:09:01.912895+00:00</td>\n",
       "      <td>8160</td>\n",
       "      <td>1357</td>\n",
       "      <td>16</td>\n",
       "      <td>2021-06-04</td>\n",
       "      <td>17:09:01.912895</td>\n",
       "    </tr>\n",
       "    <tr>\n",
       "      <th>3</th>\n",
       "      <td>6</td>\n",
       "      <td>24011800</td>\n",
       "      <td>2021-06-04 18:51:27.450857+00:00</td>\n",
       "      <td>24531</td>\n",
       "      <td>319</td>\n",
       "      <td>28</td>\n",
       "      <td>2021-06-04</td>\n",
       "      <td>18:51:27.450857</td>\n",
       "    </tr>\n",
       "  </tbody>\n",
       "</table>\n",
       "</div>"
      ],
      "text/plain": [
       "     user_id  watch_instance_id                        watched_at  video_id  \\\n",
       "130     1512           24004401  2021-06-04 16:18:38.939932+00:00     19183   \n",
       "132     1642           24011267  2021-06-04 18:32:46.898409+00:00     31592   \n",
       "127      635           23996470  2021-06-04 14:15:26.632537+00:00     22246   \n",
       "134     1796           24007227  2021-06-04 17:09:01.912895+00:00      8160   \n",
       "3          6           24011800  2021-06-04 18:51:27.450857+00:00     24531   \n",
       "\n",
       "     duration  watched_duration watched_at_date  watched_at_time  \n",
       "130       465                 0      2021-06-04  16:18:38.939932  \n",
       "132       369                 0      2021-06-04  18:32:46.898409  \n",
       "127       813               678      2021-06-04  14:15:26.632537  \n",
       "134      1357                16      2021-06-04  17:09:01.912895  \n",
       "3         319                28      2021-06-04  18:51:27.450857  "
      ]
     },
     "execution_count": 43,
     "metadata": {},
     "output_type": "execute_result"
    }
   ],
   "source": [
    "watchedVideoDF.head()"
   ]
  },
  {
   "cell_type": "code",
   "execution_count": 8,
   "metadata": {},
   "outputs": [
    {
     "data": {
      "text/html": [
       "<div>\n",
       "<style scoped>\n",
       "    .dataframe tbody tr th:only-of-type {\n",
       "        vertical-align: middle;\n",
       "    }\n",
       "\n",
       "    .dataframe tbody tr th {\n",
       "        vertical-align: top;\n",
       "    }\n",
       "\n",
       "    .dataframe thead th {\n",
       "        text-align: right;\n",
       "    }\n",
       "</style>\n",
       "<table border=\"1\" class=\"dataframe\">\n",
       "  <thead>\n",
       "    <tr style=\"text-align: right;\">\n",
       "      <th></th>\n",
       "      <th>user_id</th>\n",
       "      <th>activity_id</th>\n",
       "      <th>start_time</th>\n",
       "    </tr>\n",
       "  </thead>\n",
       "  <tbody>\n",
       "    <tr>\n",
       "      <th>0</th>\n",
       "      <td>1642</td>\n",
       "      <td>4197126</td>\n",
       "      <td>2021-06-04 16:51:51.454473+00:00</td>\n",
       "    </tr>\n",
       "    <tr>\n",
       "      <th>1</th>\n",
       "      <td>1642</td>\n",
       "      <td>4197075</td>\n",
       "      <td>2021-06-04 16:43:10.115201+00:00</td>\n",
       "    </tr>\n",
       "    <tr>\n",
       "      <th>2</th>\n",
       "      <td>1642</td>\n",
       "      <td>4197074</td>\n",
       "      <td>2021-06-04 16:43:10.082261+00:00</td>\n",
       "    </tr>\n",
       "    <tr>\n",
       "      <th>3</th>\n",
       "      <td>1642</td>\n",
       "      <td>4197577</td>\n",
       "      <td>2021-06-04 18:20:58.487196+00:00</td>\n",
       "    </tr>\n",
       "    <tr>\n",
       "      <th>4</th>\n",
       "      <td>1642</td>\n",
       "      <td>4197174</td>\n",
       "      <td>2021-06-04 16:57:46.487970+00:00</td>\n",
       "    </tr>\n",
       "  </tbody>\n",
       "</table>\n",
       "</div>"
      ],
      "text/plain": [
       "   user_id  activity_id                        start_time\n",
       "0     1642      4197126  2021-06-04 16:51:51.454473+00:00\n",
       "1     1642      4197075  2021-06-04 16:43:10.115201+00:00\n",
       "2     1642      4197074  2021-06-04 16:43:10.082261+00:00\n",
       "3     1642      4197577  2021-06-04 18:20:58.487196+00:00\n",
       "4     1642      4197174  2021-06-04 16:57:46.487970+00:00"
      ]
     },
     "execution_count": 8,
     "metadata": {},
     "output_type": "execute_result"
    }
   ],
   "source": [
    "interactedStudyCardsDF.head()"
   ]
  },
  {
   "cell_type": "markdown",
   "metadata": {},
   "source": [
    "#### Row Column Count"
   ]
  },
  {
   "cell_type": "code",
   "execution_count": 9,
   "metadata": {},
   "outputs": [
    {
     "name": "stdout",
     "output_type": "stream",
     "text": [
      "userDetailsDF =  (1000, 3)\n",
      "trackSubscriptionDF =  (1578, 3)\n",
      "quizAttemptDF =  (21419, 6)\n",
      "watchedVideoDF =  (12907, 6)\n",
      "interactedStudyCardsDF =  (3480, 3)\n"
     ]
    }
   ],
   "source": [
    "print(\"userDetailsDF = \",userDetailsDF.shape)\n",
    "print(\"trackSubscriptionDF = \",trackSubscriptionDF.shape)\n",
    "print(\"quizAttemptDF = \",quizAttemptDF.shape)\n",
    "print(\"watchedVideoDF = \",watchedVideoDF.shape)\n",
    "print(\"interactedStudyCardsDF = \",interactedStudyCardsDF.shape)"
   ]
  },
  {
   "cell_type": "markdown",
   "metadata": {},
   "source": [
    "#### Cleaning the dataset"
   ]
  },
  {
   "cell_type": "code",
   "execution_count": 10,
   "metadata": {},
   "outputs": [],
   "source": [
    "# Removing duplicate rows\n",
    "userDetailsDF.drop_duplicates(subset=None, keep= \"first\",inplace=True)\n",
    "trackSubscriptionDF.drop_duplicates(subset=None, keep= \"first\",inplace=True)\n",
    "quizAttemptDF.drop_duplicates(subset=None, keep= \"first\",inplace=True)\n",
    "watchedVideoDF.drop_duplicates(subset=None, keep= \"first\",inplace=True)\n",
    "interactedStudyCardsDF.drop_duplicates(subset=None, keep= \"first\",inplace=True)"
   ]
  },
  {
   "cell_type": "code",
   "execution_count": 11,
   "metadata": {},
   "outputs": [],
   "source": [
    "# Removing rows with None \n",
    "userDetailsDF.dropna(axis=0,how='all',inplace=True)\n",
    "trackSubscriptionDF.dropna(axis=0,how='all',inplace=True)\n",
    "quizAttemptDF.dropna(axis=0,how='all',inplace=True)\n",
    "watchedVideoDF.dropna(axis=0,how='all',inplace=True)\n",
    "interactedStudyCardsDF.dropna(axis=0,how='all',inplace=True)"
   ]
  },
  {
   "cell_type": "code",
   "execution_count": 12,
   "metadata": {},
   "outputs": [],
   "source": [
    "#splitting datetime format to seperate column of watchedVideoDF & quizAttemptDF\n",
    "watchedVideoDF['watched_at_date'] = pd.to_datetime(watchedVideoDF['watched_at'], errors='coerce').dt.date\n",
    "watchedVideoDF['watched_at_time'] = pd.to_datetime(watchedVideoDF['watched_at'], errors='coerce').dt.time\n",
    "quizAttemptDF['watched_at_date'] = pd.to_datetime(quizAttemptDF['started_at'], errors='coerce').dt.date\n",
    "quizAttemptDF['watched_at_time'] = pd.to_datetime(quizAttemptDF['started_at'], errors='coerce').dt.time"
   ]
  },
  {
   "cell_type": "code",
   "execution_count": 44,
   "metadata": {},
   "outputs": [
    {
     "name": "stderr",
     "output_type": "stream",
     "text": [
      "C:\\Users\\Arjun\\anaconda3\\lib\\site-packages\\pandas\\core\\indexing.py:966: SettingWithCopyWarning: \n",
      "A value is trying to be set on a copy of a slice from a DataFrame.\n",
      "Try using .loc[row_indexer,col_indexer] = value instead\n",
      "\n",
      "See the caveats in the documentation: https://pandas.pydata.org/pandas-docs/stable/user_guide/indexing.html#returning-a-view-versus-a-copy\n",
      "  self.obj[item] = s\n"
     ]
    }
   ],
   "source": [
    "#droping rows where date_of_first_purhcase is earlier than date_joined\n",
    "# userDetailsPaidDF = userDetailsDF[userDetailsDF['date_of_first_purhcase'].notna()]\n",
    "# userDetailsPaidDF.reset_index(inplace = True, drop = True)\n",
    "\n",
    "# for ind in userDetailsPaidDF.index:\n",
    "#     if str(userDetailsPaidDF.iloc[ind,1]) <= str(userDetailsPaidDF.iloc[ind,2]):\n",
    "#         userDetailsPaidDF.iloc[ind] = None\n",
    "#     else:\n",
    "#         userDetailsPaidDF.iloc[ind] = userDetailsPaidDF.iloc[ind]"
   ]
  },
  {
   "cell_type": "markdown",
   "metadata": {},
   "source": [
    "#### Paid v/s Unpaid\n"
   ]
  },
  {
   "cell_type": "code",
   "execution_count": 14,
   "metadata": {},
   "outputs": [],
   "source": [
    "userDetailsPaidDF = userDetailsDF[userDetailsDF['date_of_first_purhcase'].notna()]\n",
    "userDetailsUnpaidDF = userDetailsDF[userDetailsDF['date_of_first_purhcase'].isna()]"
   ]
  },
  {
   "cell_type": "code",
   "execution_count": 15,
   "metadata": {},
   "outputs": [
    {
     "data": {
      "text/html": [
       "<div>\n",
       "<style scoped>\n",
       "    .dataframe tbody tr th:only-of-type {\n",
       "        vertical-align: middle;\n",
       "    }\n",
       "\n",
       "    .dataframe tbody tr th {\n",
       "        vertical-align: top;\n",
       "    }\n",
       "\n",
       "    .dataframe thead th {\n",
       "        text-align: right;\n",
       "    }\n",
       "</style>\n",
       "<table border=\"1\" class=\"dataframe\">\n",
       "  <thead>\n",
       "    <tr style=\"text-align: right;\">\n",
       "      <th></th>\n",
       "      <th>user_uid</th>\n",
       "      <th>date_joined</th>\n",
       "      <th>date_of_first_purhcase</th>\n",
       "    </tr>\n",
       "  </thead>\n",
       "  <tbody>\n",
       "    <tr>\n",
       "      <th>0</th>\n",
       "      <td>6</td>\n",
       "      <td>2021-06-04</td>\n",
       "      <td>2021-06-04</td>\n",
       "    </tr>\n",
       "    <tr>\n",
       "      <th>6</th>\n",
       "      <td>1642</td>\n",
       "      <td>2021-06-04</td>\n",
       "      <td>2021-06-04</td>\n",
       "    </tr>\n",
       "    <tr>\n",
       "      <th>8</th>\n",
       "      <td>1831</td>\n",
       "      <td>2021-06-04</td>\n",
       "      <td>2021-06-16</td>\n",
       "    </tr>\n",
       "    <tr>\n",
       "      <th>9</th>\n",
       "      <td>2610</td>\n",
       "      <td>2021-06-05</td>\n",
       "      <td>2021-06-05</td>\n",
       "    </tr>\n",
       "    <tr>\n",
       "      <th>10</th>\n",
       "      <td>3418</td>\n",
       "      <td>2021-06-05</td>\n",
       "      <td>2021-07-07</td>\n",
       "    </tr>\n",
       "  </tbody>\n",
       "</table>\n",
       "</div>"
      ],
      "text/plain": [
       "    user_uid date_joined date_of_first_purhcase\n",
       "0          6  2021-06-04             2021-06-04\n",
       "6       1642  2021-06-04             2021-06-04\n",
       "8       1831  2021-06-04             2021-06-16\n",
       "9       2610  2021-06-05             2021-06-05\n",
       "10      3418  2021-06-05             2021-07-07"
      ]
     },
     "execution_count": 15,
     "metadata": {},
     "output_type": "execute_result"
    }
   ],
   "source": [
    "userDetailsPaidDF.head()"
   ]
  },
  {
   "cell_type": "code",
   "execution_count": 16,
   "metadata": {},
   "outputs": [
    {
     "data": {
      "text/html": [
       "<div>\n",
       "<style scoped>\n",
       "    .dataframe tbody tr th:only-of-type {\n",
       "        vertical-align: middle;\n",
       "    }\n",
       "\n",
       "    .dataframe tbody tr th {\n",
       "        vertical-align: top;\n",
       "    }\n",
       "\n",
       "    .dataframe thead th {\n",
       "        text-align: right;\n",
       "    }\n",
       "</style>\n",
       "<table border=\"1\" class=\"dataframe\">\n",
       "  <thead>\n",
       "    <tr style=\"text-align: right;\">\n",
       "      <th></th>\n",
       "      <th>user_uid</th>\n",
       "      <th>date_joined</th>\n",
       "      <th>date_of_first_purhcase</th>\n",
       "    </tr>\n",
       "  </thead>\n",
       "  <tbody>\n",
       "    <tr>\n",
       "      <th>1</th>\n",
       "      <td>608</td>\n",
       "      <td>2021-06-04</td>\n",
       "      <td>NaN</td>\n",
       "    </tr>\n",
       "    <tr>\n",
       "      <th>2</th>\n",
       "      <td>635</td>\n",
       "      <td>2021-06-04</td>\n",
       "      <td>NaN</td>\n",
       "    </tr>\n",
       "    <tr>\n",
       "      <th>3</th>\n",
       "      <td>745</td>\n",
       "      <td>2021-06-04</td>\n",
       "      <td>NaN</td>\n",
       "    </tr>\n",
       "    <tr>\n",
       "      <th>4</th>\n",
       "      <td>1506</td>\n",
       "      <td>2021-06-04</td>\n",
       "      <td>NaN</td>\n",
       "    </tr>\n",
       "    <tr>\n",
       "      <th>5</th>\n",
       "      <td>1512</td>\n",
       "      <td>2021-06-04</td>\n",
       "      <td>NaN</td>\n",
       "    </tr>\n",
       "  </tbody>\n",
       "</table>\n",
       "</div>"
      ],
      "text/plain": [
       "   user_uid date_joined date_of_first_purhcase\n",
       "1       608  2021-06-04                    NaN\n",
       "2       635  2021-06-04                    NaN\n",
       "3       745  2021-06-04                    NaN\n",
       "4      1506  2021-06-04                    NaN\n",
       "5      1512  2021-06-04                    NaN"
      ]
     },
     "execution_count": 16,
     "metadata": {},
     "output_type": "execute_result"
    }
   ],
   "source": [
    "userDetailsUnpaidDF.head()"
   ]
  },
  {
   "cell_type": "code",
   "execution_count": 17,
   "metadata": {},
   "outputs": [],
   "source": [
    "#All values are not of datetime datatype, convert all the datas in date to datetime data type\n",
    "userDetailsDF['date_of_first_purhcase']= pd.to_datetime(userDetailsDF['date_of_first_purhcase'])\n",
    "userDetailsDF['date_joined']= pd.to_datetime(userDetailsDF['date_joined'])"
   ]
  },
  {
   "cell_type": "code",
   "execution_count": 29,
   "metadata": {},
   "outputs": [
    {
     "data": {
      "text/plain": [
       "(array([737949., 737956., 737963., 737972., 737979., 737986., 737993.,\n",
       "        738003.]),\n",
       " <a list of 8 Text major ticklabel objects>)"
      ]
     },
     "execution_count": 29,
     "metadata": {},
     "output_type": "execute_result"
    },
    {
     "data": {
      "image/png": "[encoded data removed]",
      "text/plain": [
       "<Figure size 432x288 with 1 Axes>"
      ]
     },
     "metadata": {
      "needs_background": "light"
     },
     "output_type": "display_data"
    }
   ],
   "source": [
    "plt.plot(userDetailsDF['date_joined'], userDetailsDF['date_of_first_purhcase'])\n",
    "plt.xticks(rotation='vertical')"
   ]
  },
  {
   "cell_type": "code",
   "execution_count": 24,
   "metadata": {},
   "outputs": [],
   "source": [
    "userDetailsPaidList = userDetailsPaidDF['user_uid'].to_list()"
   ]
  },
  {
   "cell_type": "code",
   "execution_count": 25,
   "metadata": {},
   "outputs": [],
   "source": [
    "userDetailsUnpaidList = userDetailsUnpaidDF['user_uid'].to_list()"
   ]
  },
  {
   "cell_type": "code",
   "execution_count": 22,
   "metadata": {},
   "outputs": [
    {
     "data": {
      "text/html": [
       "<div>\n",
       "<style scoped>\n",
       "    .dataframe tbody tr th:only-of-type {\n",
       "        vertical-align: middle;\n",
       "    }\n",
       "\n",
       "    .dataframe tbody tr th {\n",
       "        vertical-align: top;\n",
       "    }\n",
       "\n",
       "    .dataframe thead th {\n",
       "        text-align: right;\n",
       "    }\n",
       "</style>\n",
       "<table border=\"1\" class=\"dataframe\">\n",
       "  <thead>\n",
       "    <tr style=\"text-align: right;\">\n",
       "      <th></th>\n",
       "      <th>user_id</th>\n",
       "      <th>track_slug</th>\n",
       "      <th>subscription_date</th>\n",
       "    </tr>\n",
       "  </thead>\n",
       "  <tbody>\n",
       "    <tr>\n",
       "      <th>0</th>\n",
       "      <td>6</td>\n",
       "      <td>kerala-psc</td>\n",
       "      <td>2021-06-04</td>\n",
       "    </tr>\n",
       "    <tr>\n",
       "      <th>1</th>\n",
       "      <td>6</td>\n",
       "      <td>KTET</td>\n",
       "      <td>2021-06-04</td>\n",
       "    </tr>\n",
       "    <tr>\n",
       "      <th>2</th>\n",
       "      <td>608</td>\n",
       "      <td>spoken-english</td>\n",
       "      <td>2021-06-04</td>\n",
       "    </tr>\n",
       "    <tr>\n",
       "      <th>3</th>\n",
       "      <td>608</td>\n",
       "      <td>APPSC</td>\n",
       "      <td>2021-06-04</td>\n",
       "    </tr>\n",
       "    <tr>\n",
       "      <th>4</th>\n",
       "      <td>608</td>\n",
       "      <td>Eng_With_Awal</td>\n",
       "      <td>2021-06-04</td>\n",
       "    </tr>\n",
       "  </tbody>\n",
       "</table>\n",
       "</div>"
      ],
      "text/plain": [
       "   user_id      track_slug subscription_date\n",
       "0        6      kerala-psc        2021-06-04\n",
       "1        6            KTET        2021-06-04\n",
       "2      608  spoken-english        2021-06-04\n",
       "3      608           APPSC        2021-06-04\n",
       "4      608   Eng_With_Awal        2021-06-04"
      ]
     },
     "execution_count": 22,
     "metadata": {},
     "output_type": "execute_result"
    }
   ],
   "source": [
    "trackSubscriptionDF.head()"
   ]
  },
  {
   "cell_type": "code",
   "execution_count": 23,
   "metadata": {},
   "outputs": [
    {
     "data": {
      "text/html": [
       "<div>\n",
       "<style scoped>\n",
       "    .dataframe tbody tr th:only-of-type {\n",
       "        vertical-align: middle;\n",
       "    }\n",
       "\n",
       "    .dataframe tbody tr th {\n",
       "        vertical-align: top;\n",
       "    }\n",
       "\n",
       "    .dataframe thead th {\n",
       "        text-align: right;\n",
       "    }\n",
       "</style>\n",
       "<table border=\"1\" class=\"dataframe\">\n",
       "  <thead>\n",
       "    <tr style=\"text-align: right;\">\n",
       "      <th></th>\n",
       "      <th>user_id</th>\n",
       "      <th>watch_instance_id</th>\n",
       "      <th>watched_at</th>\n",
       "      <th>video_id</th>\n",
       "      <th>duration</th>\n",
       "      <th>watched_duration</th>\n",
       "      <th>watched_at_date</th>\n",
       "      <th>watched_at_time</th>\n",
       "    </tr>\n",
       "  </thead>\n",
       "  <tbody>\n",
       "    <tr>\n",
       "      <th>0</th>\n",
       "      <td>6</td>\n",
       "      <td>24552452</td>\n",
       "      <td>2021-06-12 18:13:40.347392+00:00</td>\n",
       "      <td>25261</td>\n",
       "      <td>934</td>\n",
       "      <td>2</td>\n",
       "      <td>2021-06-12</td>\n",
       "      <td>18:13:40.347392</td>\n",
       "    </tr>\n",
       "    <tr>\n",
       "      <th>1</th>\n",
       "      <td>6</td>\n",
       "      <td>24552735</td>\n",
       "      <td>2021-06-12 18:21:45.362998+00:00</td>\n",
       "      <td>25262</td>\n",
       "      <td>398</td>\n",
       "      <td>398</td>\n",
       "      <td>2021-06-12</td>\n",
       "      <td>18:21:45.362998</td>\n",
       "    </tr>\n",
       "    <tr>\n",
       "      <th>2</th>\n",
       "      <td>6</td>\n",
       "      <td>24011079</td>\n",
       "      <td>2021-06-04 18:27:01.296468+00:00</td>\n",
       "      <td>24920</td>\n",
       "      <td>1589</td>\n",
       "      <td>55</td>\n",
       "      <td>2021-06-04</td>\n",
       "      <td>18:27:01.296468</td>\n",
       "    </tr>\n",
       "    <tr>\n",
       "      <th>3</th>\n",
       "      <td>6</td>\n",
       "      <td>24011800</td>\n",
       "      <td>2021-06-04 18:51:27.450857+00:00</td>\n",
       "      <td>24531</td>\n",
       "      <td>319</td>\n",
       "      <td>28</td>\n",
       "      <td>2021-06-04</td>\n",
       "      <td>18:51:27.450857</td>\n",
       "    </tr>\n",
       "    <tr>\n",
       "      <th>4</th>\n",
       "      <td>6</td>\n",
       "      <td>24249571</td>\n",
       "      <td>2021-06-08 11:19:02.187747+00:00</td>\n",
       "      <td>32825</td>\n",
       "      <td>317</td>\n",
       "      <td>15</td>\n",
       "      <td>2021-06-08</td>\n",
       "      <td>11:19:02.187747</td>\n",
       "    </tr>\n",
       "  </tbody>\n",
       "</table>\n",
       "</div>"
      ],
      "text/plain": [
       "   user_id  watch_instance_id                        watched_at  video_id  \\\n",
       "0        6           24552452  2021-06-12 18:13:40.347392+00:00     25261   \n",
       "1        6           24552735  2021-06-12 18:21:45.362998+00:00     25262   \n",
       "2        6           24011079  2021-06-04 18:27:01.296468+00:00     24920   \n",
       "3        6           24011800  2021-06-04 18:51:27.450857+00:00     24531   \n",
       "4        6           24249571  2021-06-08 11:19:02.187747+00:00     32825   \n",
       "\n",
       "   duration  watched_duration watched_at_date  watched_at_time  \n",
       "0       934                 2      2021-06-12  18:13:40.347392  \n",
       "1       398               398      2021-06-12  18:21:45.362998  \n",
       "2      1589                55      2021-06-04  18:27:01.296468  \n",
       "3       319                28      2021-06-04  18:51:27.450857  \n",
       "4       317                15      2021-06-08  11:19:02.187747  "
      ]
     },
     "execution_count": 23,
     "metadata": {},
     "output_type": "execute_result"
    }
   ],
   "source": [
    "watchedVideoDF.head()"
   ]
  },
  {
   "cell_type": "code",
   "execution_count": 37,
   "metadata": {},
   "outputs": [],
   "source": [
    "watchedVideoDF = watchedVideoDF.sort_values(by=\"watched_at_date\")"
   ]
  },
  {
   "cell_type": "code",
   "execution_count": null,
   "metadata": {},
   "outputs": [],
   "source": []
  }
 ],
 "metadata": {
  "kernelspec": {
   "display_name": "Python 3",
   "language": "python",
   "name": "python3"
  },
  "language_info": {
   "codemirror_mode": {
    "name": "ipython",
    "version": 3
   },
   "file_extension": ".py",
   "mimetype": "text/x-python",
   "name": "python",
   "nbconvert_exporter": "python",
   "pygments_lexer": "ipython3",
   "version": "3.8.3"
  }
 },
 "nbformat": 4,
 "nbformat_minor": 5
}
